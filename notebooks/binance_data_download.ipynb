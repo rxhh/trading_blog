{
 "cells": [
  {
   "cell_type": "code",
   "execution_count": 20,
   "metadata": {},
   "outputs": [],
   "source": [
    "import os\n",
    "import sys\n",
    "sys.path.append(\"..\")\n",
    "\n",
    "import ccxt\n",
    "import datetime as dt\n",
    "import numpy as np\n",
    "import pandas as pd\n",
    "from pathlib import Path\n",
    "\n",
    "from secret import *"
   ]
  },
  {
   "cell_type": "markdown",
   "metadata": {},
   "source": [
    "# Bars"
   ]
  },
  {
   "cell_type": "code",
   "execution_count": 21,
   "metadata": {},
   "outputs": [],
   "source": [
    "binance = ccxt.binance({ 'options': {'defaultType': 'future' }})"
   ]
  },
  {
   "cell_type": "code",
   "execution_count": 22,
   "metadata": {},
   "outputs": [],
   "source": [
    "def parse_binance_ohlc(df):\n",
    "    df.columns = ['timestamp', 'open', 'high', 'low', 'close', 'volume', 'close_time', 'quoteVolume', 'nTrades', 'upVolume', 'upQuoteVolume', 'ignore']\n",
    "    df = df.drop(columns='ignore')\n",
    "    df = pd.concat([df[['timestamp', 'close_time']].astype(int), df[['open', 'high', 'low', 'close', 'volume', 'quoteVolume', 'nTrades', 'upVolume', 'upQuoteVolume']].astype(float)], axis=1)\n",
    "    df = df.drop_duplicates()\n",
    "    df = df.set_index(pd.to_datetime(df['timestamp'].astype(int), unit='ms')).sort_index()\n",
    "    df.index.name = 'dt'\n",
    "    return df"
   ]
  },
  {
   "cell_type": "code",
   "execution_count": 23,
   "metadata": {},
   "outputs": [],
   "source": [
    "def download_ohlc_binance(symbol, start):\n",
    "    start_dt = dt.datetime.combine(start, dt.time(0))\n",
    "    path_to = f\"../data/candles/{symbol}.pq\"\n",
    "    if not os.path.isfile(path_to):\n",
    "        all_klines = []\n",
    "        params = {\n",
    "            'interval': '1m',\n",
    "            'limit': 1000,\n",
    "            'symbol': symbol,\n",
    "        }\n",
    "        klines = pd.DataFrame(binance.fapiPublicGetKlines(params))\n",
    "        all_klines.append(klines)\n",
    "        t0 = pd.to_datetime(int(klines[0].iloc[0]), unit='ms')\n",
    "        while t0 > start_dt:\n",
    "            params['endTime'] = klines[0].iloc[0]\n",
    "            klines = pd.DataFrame(binance.fapiPublicGetKlines(params))\n",
    "            all_klines.append(klines)\n",
    "            _t0 = pd.to_datetime(int(klines[0].iloc[0]), unit='ms')\n",
    "            if t0 == _t0: break\n",
    "            else: t0 = _t0\n",
    "        df = parse_binance_ohlc(pd.concat(all_klines)).iloc[:-1]\n",
    "        df.to_parquet(path_to)\n",
    "    else:\n",
    "        df = pd.read_parquet(path_to)\n",
    "        \n",
    "        # Forward fill to present    \n",
    "        last_dt = df.index[-1]\n",
    "        all_klines = []\n",
    "        params = {\n",
    "            'interval': '1m',\n",
    "            'limit': 1000,\n",
    "            'symbol': symbol,\n",
    "        }\n",
    "        klines = pd.DataFrame(binance.fapiPublicGetKlines(params))\n",
    "        all_klines.append(klines)\n",
    "        t0 = pd.to_datetime(int(klines[0].iloc[0]), unit='ms')\n",
    "        while t0 > last_dt:\n",
    "            params['endTime'] = klines[0].iloc[0]\n",
    "            klines = pd.DataFrame(binance.fapiPublicGetKlines(params))\n",
    "            all_klines.append(klines)\n",
    "            t0 = pd.to_datetime(int(klines[0].iloc[0]), unit='ms')\n",
    "        df = pd.concat([parse_binance_ohlc(pd.concat(all_klines)).iloc[:-1], df]).drop_duplicates().sort_index()    \n",
    "        \n",
    "        # Backfill\n",
    "        if start_dt < df.index[0]:\n",
    "            t0 = df.index[0]\n",
    "            ts0 = df['timestamp'].iloc[0]\n",
    "            all_klines = []\n",
    "            while t0 > start_dt:\n",
    "                params = {\n",
    "                    'interval': '1m',\n",
    "                    'limit': 1000,\n",
    "                    'symbol': symbol,\n",
    "                    'endTime': ts0\n",
    "                }\n",
    "                klines = pd.DataFrame(binance.fapiPublicGetKlines(params))\n",
    "                all_klines.append(klines)\n",
    "                _t0 = pd.to_datetime(int(klines[0].iloc[0]), unit='ms')\n",
    "                ts0 = klines[0].iloc[0]\n",
    "                if t0 == _t0: break\n",
    "                else: t0 = _t0\n",
    "            df = pd.concat([parse_binance_ohlc(pd.concat(all_klines)), df]).drop_duplicates().sort_index()\n",
    "            df.to_parquet(path_to)\n",
    "    return"
   ]
  },
  {
   "cell_type": "code",
   "execution_count": 28,
   "metadata": {},
   "outputs": [],
   "source": [
    "download_ohlc_binance('DOGEUSDT', dt.date(2021,1,1))"
   ]
  }
 ],
 "metadata": {
  "kernelspec": {
   "display_name": "trading_blog--0TPTIZL",
   "language": "python",
   "name": "python3"
  },
  "language_info": {
   "codemirror_mode": {
    "name": "ipython",
    "version": 3
   },
   "file_extension": ".py",
   "mimetype": "text/x-python",
   "name": "python",
   "nbconvert_exporter": "python",
   "pygments_lexer": "ipython3",
   "version": "3.9.1"
  }
 },
 "nbformat": 4,
 "nbformat_minor": 2
}
