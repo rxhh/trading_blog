{
 "cells": [
  {
   "cell_type": "code",
   "execution_count": 2,
   "metadata": {},
   "outputs": [],
   "source": [
    "import sys\n",
    "sys.path.append(\"..\")\n",
    "\n",
    "import datetime as dt\n",
    "from ipywidgets import interact\n",
    "import itertools\n",
    "import matplotlib.pyplot as plt\n",
    "import numpy as np\n",
    "import pandas as pd\n",
    "import plotly.graph_objects as go\n",
    "from plotly.subplots import make_subplots\n",
    "import seaborn as sns\n",
    "import statsmodels.api as sm\n",
    "import tqdm\n",
    "import vectorbtpro as vbt\n",
    "\n",
    "import legitindicators as li\n",
    "import pandas_ta as pta\n",
    "\n",
    "from lib import utils, indicators, binance_loader"
   ]
  },
  {
   "cell_type": "code",
   "execution_count": 1121,
   "metadata": {},
   "outputs": [],
   "source": [
    "df = binance_loader.load_ohlc_in_date_range('TRXUSDT', '2024-01-01', '2024-12-31')"
   ]
  },
  {
   "cell_type": "code",
   "execution_count": 1122,
   "metadata": {},
   "outputs": [],
   "source": [
    "freq = '5min'\n",
    "df = df.resample(freq).agg({'open':'first', 'high':'max', 'low':'min', 'close':'last', 'volume':'sum', 'quoteVolume':'sum', 'nTrades':'sum', 'upVolume':'sum', 'upQuoteVolume':'sum'})"
   ]
  },
  {
   "cell_type": "code",
   "execution_count": 1123,
   "metadata": {},
   "outputs": [],
   "source": [
    "df['vold'] = 2*df['upVolume'] - df['volume']\n",
    "df['volma'] = indicators.SuperSmoother(df['volume'], 20)\n",
    "df['rvold'] = df['vold']/df['volma']"
   ]
  },
  {
   "cell_type": "code",
   "execution_count": 1124,
   "metadata": {},
   "outputs": [],
   "source": [
    "df['return'] = df['close'].pct_change()\n",
    "df['return_ma'] = indicators.SuperSmoother(df['return'].fillna(0).abs(), 20)\n",
    "df['rreturn'] = df['return']/df['return_ma']"
   ]
  },
  {
   "cell_type": "code",
   "execution_count": 1125,
   "metadata": {},
   "outputs": [],
   "source": [
    "df['aggr'] = (df['vold']*df['return'] > 0)"
   ]
  },
  {
   "cell_type": "code",
   "execution_count": 1126,
   "metadata": {},
   "outputs": [],
   "source": [
    "df['ssmooth'] = indicators.SuperSmoother(df['close'], 50)\n",
    "df['rms'] = np.sqrt((df['close'] - df['ssmooth']).pow(2).rolling(50).sum()/50)\n",
    "df['band_u'] = df['ssmooth'] + 3*df['rms']\n",
    "df['band_l'] = df['ssmooth'] - 3*df['rms']"
   ]
  },
  {
   "cell_type": "code",
   "execution_count": null,
   "metadata": {},
   "outputs": [],
   "source": [
    "fig = go.FigureWidget(make_subplots(rows=3, cols=1, shared_xaxes=True, row_heights=[0.6, 0.2, 0.2]))\n",
    "fig.add_trace(go.Candlestick(), row=1, col=1)\n",
    "fig.add_trace(go.Scatter(), row=2, col=1)\n",
    "fig.add_trace(go.Scatter(), row=3, col=1)\n",
    "fig.add_trace(go.Scatter(), row=1, col=1)\n",
    "fig.add_trace(go.Scatter(), row=1, col=1)\n",
    "fig.update_layout(height=600, margin=dict(l=20,r=20,b=20,t=20), xaxis=dict(rangeslider=dict(visible=False)))\n",
    "\n",
    "@interact(date=np.unique(df.index.date), col=df.columns, col2=df.columns)\n",
    "def update(date, col, col2):\n",
    "   with fig.batch_update():\n",
    "      _sdf = df.loc[str(date)]\n",
    "      fig.data[0].x, fig.data[0].open, fig.data[0].high = _sdf.index, _sdf['open'], _sdf['high']\n",
    "      fig.data[0].low, fig.data[0].close = _sdf['low'], _sdf['close']\n",
    "      fig.data[1].x, fig.data[1].y = _sdf.index, _sdf[col]\n",
    "      fig.data[2].x, fig.data[2].y = _sdf.index, _sdf[col2]\n",
    "      fig.data[3].x, fig.data[3].y = _sdf.index, _sdf['band_u']\n",
    "      fig.data[4].x, fig.data[4].y = _sdf.index, _sdf['band_l']\n",
    "      fig.update_layout()\n",
    "fig\n"
   ]
  },
  {
   "cell_type": "code",
   "execution_count": 1128,
   "metadata": {},
   "outputs": [],
   "source": [
    "from sklearn.covariance import EllipticEnvelope"
   ]
  },
  {
   "cell_type": "code",
   "execution_count": null,
   "metadata": {},
   "outputs": [],
   "source": [
    "ee = EllipticEnvelope(support_fraction=1)\n",
    "train_window = 5\n",
    "dates = np.unique(df.index.date)\n",
    "\n",
    "df['pred'] = np.nan\n",
    "for i in tqdm.tqdm(range(train_window+1, len(dates))):\n",
    "    train_df = df.loc[str(dates[i-train_window]):str(dates[i-1])]\n",
    "    pred_df = df.loc[str(dates[i])]\n",
    "    \n",
    "    ee.fit(train_df[['return', 'vold']])\n",
    "    pred = pd.Series(ee.decision_function(pred_df[['return', 'vold']]), index=pred_df.index)\n",
    "    df.loc[pred_df.index, 'pred'] = pred"
   ]
  },
  {
   "cell_type": "code",
   "execution_count": 1130,
   "metadata": {},
   "outputs": [],
   "source": [
    "# # Outlier Absorption\n",
    "# le = df['pred'] < -25\n",
    "# le &= ~df['aggr']\n",
    "# le &= df['return'] < 0\n",
    "# le &= df['low'] < df['band_l']\n",
    "\n",
    "# se = df['pred'] < -25\n",
    "# se &= ~df['aggr']\n",
    "# se &= df['return'] > 0\n",
    "# se &= df['high'] > df['band_u']\n",
    "\n",
    "# le.sum(), se.sum()"
   ]
  },
  {
   "cell_type": "code",
   "execution_count": null,
   "metadata": {},
   "outputs": [],
   "source": [
    "# Outlier Aggression\n",
    "le = df['pred'] < -200\n",
    "le &= df['aggr']\n",
    "le &= df['return'] < 0\n",
    "le &= df['close'] < df['band_l']\n",
    "\n",
    "se = df['pred'] < -200\n",
    "se &= df['aggr']\n",
    "se &= df['return'] > 0\n",
    "se &= df['close'] > df['band_u']\n",
    "\n",
    "le.sum(), se.sum()"
   ]
  },
  {
   "cell_type": "code",
   "execution_count": 1153,
   "metadata": {},
   "outputs": [],
   "source": [
    "df['le'] = le\n",
    "df['se'] = se"
   ]
  },
  {
   "cell_type": "code",
   "execution_count": 1154,
   "metadata": {},
   "outputs": [],
   "source": [
    "df['tr'] = pta.true_range(df['high'], df['low'], df['close'])\n",
    "df['atr'] = indicators.SuperSmoother(df['tr'].fillna(0), 28)\n",
    "df['natr'] = df['atr']/df['close']"
   ]
  },
  {
   "cell_type": "code",
   "execution_count": 1155,
   "metadata": {},
   "outputs": [],
   "source": [
    "tpsl_mults = np.arange(0.5, 5, 0.5)\n",
    "pf = vbt.Portfolio.from_signals(\n",
    "    df['close'], open=df['open'], high=df['high'], low=df['low'],\n",
    "    entries=le,\n",
    "    # short_entries=se,\n",
    "    freq=freq,\n",
    "    # td_stop=13,\n",
    "    # time_delta_format=0,\n",
    "    sl_stop=vbt.Param([x*df['natr'] for x in tpsl_mults]),\n",
    "    tp_stop=vbt.Param([x*df['natr'] for x in tpsl_mults]),\n",
    "    upon_opposite_entry='Reverse',\n",
    ")"
   ]
  },
  {
   "cell_type": "code",
   "execution_count": 1156,
   "metadata": {},
   "outputs": [],
   "source": [
    "# stat_result = pf.trades.get_profit_factor().unstack()\n",
    "stat_result = pf.sharpe_ratio.unstack()\n",
    "stat_result.index = stat_result.index.str[7:].astype(int)\n",
    "stat_result.columns = stat_result.columns.str[7:].astype(int)\n",
    "stat_result = stat_result.sort_index().sort_index(axis=1)\n",
    "stat_result.index = tpsl_mults\n",
    "stat_result.columns = tpsl_mults\n",
    "stat_result = stat_result.replace({np.inf:np.nan})\n",
    "stat_result.index = stat_result.index.round(2)\n",
    "stat_result.columns = stat_result.columns.round(2)"
   ]
  },
  {
   "cell_type": "code",
   "execution_count": null,
   "metadata": {},
   "outputs": [],
   "source": [
    "ax = sns.heatmap(stat_result, annot=False)\n",
    "ax.set_title('Sharpe Ratio by SL and TP (%)')"
   ]
  },
  {
   "cell_type": "code",
   "execution_count": 1167,
   "metadata": {},
   "outputs": [],
   "source": [
    "tpsl_mults = np.arange(0.5, 5, 0.5)\n",
    "pf = vbt.Portfolio.from_signals(\n",
    "    df['close'], open=df['open'], high=df['high'], low=df['low'],\n",
    "    entries=le,\n",
    "    short_entries=se,\n",
    "    freq=freq,\n",
    "    # td_stop=13,\n",
    "    # time_delta_format=0,\n",
    "    sl_stop=4*df['natr'],\n",
    "    tp_stop=3*df['natr'],\n",
    ")"
   ]
  },
  {
   "cell_type": "code",
   "execution_count": null,
   "metadata": {},
   "outputs": [],
   "source": [
    "pf.stats()"
   ]
  },
  {
   "cell_type": "code",
   "execution_count": null,
   "metadata": {},
   "outputs": [],
   "source": [
    "pf.value.plot()"
   ]
  },
  {
   "cell_type": "code",
   "execution_count": 1173,
   "metadata": {},
   "outputs": [],
   "source": [
    "records = pf.trades.records\n",
    "records['dt'] = df.index[records['entry_idx']]\n",
    "records['exit_dt'] = df.index[records['exit_idx']]\n",
    "records['sl'] = 2*df['natr'].shift().iloc[records['entry_idx']].values\n",
    "records['realized_r'] = records['return']/records['sl']\n",
    "records = records.set_index('dt')"
   ]
  },
  {
   "cell_type": "code",
   "execution_count": null,
   "metadata": {},
   "outputs": [],
   "source": [
    "records['realized_r'].cumsum().plot()"
   ]
  }
 ],
 "metadata": {
  "kernelspec": {
   "display_name": "trading_blog--0TPTIZL",
   "language": "python",
   "name": "python3"
  },
  "language_info": {
   "codemirror_mode": {
    "name": "ipython",
    "version": 3
   },
   "file_extension": ".py",
   "mimetype": "text/x-python",
   "name": "python",
   "nbconvert_exporter": "python",
   "pygments_lexer": "ipython3",
   "version": "3.9.1"
  }
 },
 "nbformat": 4,
 "nbformat_minor": 2
}
