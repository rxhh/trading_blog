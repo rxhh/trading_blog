{
 "cells": [
  {
   "cell_type": "code",
   "execution_count": null,
   "metadata": {},
   "outputs": [],
   "source": [
    "import sys\n",
    "sys.path.append(\"..\")\n",
    "\n",
    "import datetime as dt\n",
    "import io\n",
    "import os\n",
    "import pandas as pd\n",
    "import requests\n",
    "import zipfile\n",
    "\n",
    "from lib import bitget_loader"
   ]
  },
  {
   "cell_type": "markdown",
   "metadata": {},
   "source": [
    "# K-Lines"
   ]
  },
  {
   "cell_type": "code",
   "execution_count": null,
   "metadata": {},
   "outputs": [],
   "source": [
    "bitget_loader.download_klines_in_date_range('TONUSDT', dt.date(2022,1,1), dt.date(2024,4,30))"
   ]
  },
  {
   "cell_type": "code",
   "execution_count": null,
   "metadata": {},
   "outputs": [],
   "source": [
    "bitget_loader.load_klines_in_date_range('SOLUSDT', dt.date(2022,1,1), dt.date(2022,1,31))"
   ]
  },
  {
   "cell_type": "markdown",
   "metadata": {},
   "source": [
    "# Tick"
   ]
  },
  {
   "cell_type": "code",
   "execution_count": null,
   "metadata": {},
   "outputs": [],
   "source": [
    "def download_ticks_on_date(symbol, d):\n",
    "    n = 1\n",
    "    ddfs = []\n",
    "    while True:\n",
    "        filestr = f\"{symbol}_UMCBL_{d.strftime('%Y%m%d')}_{n:03}\"\n",
    "        url = f\"https://img.bitgetimg.com/online/trades/UMCBL/{symbol}/{filestr}.zip\"\n",
    "        r = requests.get(url)\n",
    "        if r.status_code != 200:\n",
    "            break\n",
    "        z = zipfile.ZipFile(io.BytesIO(r.content))\n",
    "        z.extract(f\"{filestr}.csv\", f\"temp\")\n",
    "        ddfs.append(pd.read_csv(f\"temp/{filestr}.csv\"))\n",
    "        n += 1\n",
    "    if ddfs:\n",
    "        outdir = f'../data/{symbol}'\n",
    "        if not os.path.exists(outdir):\n",
    "            os.mkdir(outdir)\n",
    "    \n",
    "        pd.concat(ddfs).to_parquet(f\"../data/tick/{symbol}/{d.strftime('%Y%m%d')}.pq\")\n",
    "    else:\n",
    "        print(f\"No data on {d}\")\n",
    "        print(url)"
   ]
  },
  {
   "cell_type": "code",
   "execution_count": null,
   "metadata": {},
   "outputs": [],
   "source": [
    "download_ticks_on_date('SOLUSDT', dt.date(2024,4,19))"
   ]
  }
 ],
 "metadata": {
  "kernelspec": {
   "display_name": "trading_blog-4UPSDfUr",
   "language": "python",
   "name": "python3"
  },
  "language_info": {
   "codemirror_mode": {
    "name": "ipython",
    "version": 3
   },
   "file_extension": ".py",
   "mimetype": "text/x-python",
   "name": "python",
   "nbconvert_exporter": "python",
   "pygments_lexer": "ipython3",
   "version": "3.9.13"
  }
 },
 "nbformat": 4,
 "nbformat_minor": 2
}
