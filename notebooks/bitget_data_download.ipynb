{
 "cells": [
  {
   "cell_type": "code",
   "execution_count": null,
   "metadata": {},
   "outputs": [],
   "source": [
    "import sys\n",
    "sys.path.append(\"..\")\n",
    "\n",
    "import datetime as dt\n",
    "import io\n",
    "import os\n",
    "import pandas as pd\n",
    "import requests\n",
    "import zipfile\n",
    "\n",
    "from lib import bitget_loader"
   ]
  },
  {
   "cell_type": "markdown",
   "metadata": {},
   "source": [
    "# K-Lines"
   ]
  },
  {
   "cell_type": "code",
   "execution_count": null,
   "metadata": {},
   "outputs": [],
   "source": [
    "bitget_loader.download_klines_in_date_range('SOLUSDT', dt.date(2023,1,1), dt.date(2023,12,31))"
   ]
  },
  {
   "cell_type": "code",
   "execution_count": null,
   "metadata": {},
   "outputs": [],
   "source": [
    "bitget_loader.load_klines_in_date_range('SOLUSDT', dt.date(2022,1,1), dt.date(2022,1,31))"
   ]
  }
 ],
 "metadata": {
  "kernelspec": {
   "display_name": "trading_blog-4UPSDfUr",
   "language": "python",
   "name": "python3"
  },
  "language_info": {
   "codemirror_mode": {
    "name": "ipython",
    "version": 3
   },
   "file_extension": ".py",
   "mimetype": "text/x-python",
   "name": "python",
   "nbconvert_exporter": "python",
   "pygments_lexer": "ipython3",
   "version": "3.9.13"
  }
 },
 "nbformat": 4,
 "nbformat_minor": 2
}
