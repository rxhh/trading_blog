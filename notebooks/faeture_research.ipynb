{
 "cells": [
  {
   "cell_type": "code",
   "execution_count": 1,
   "metadata": {},
   "outputs": [],
   "source": [
    "import sys\n",
    "sys.path.append(\"..\")\n",
    "\n",
    "import datetime as dt\n",
    "from ipywidgets import interact\n",
    "import itertools\n",
    "import matplotlib.pyplot as plt\n",
    "import numpy as np\n",
    "import pandas as pd\n",
    "import plotly.graph_objects as go\n",
    "from plotly.subplots import make_subplots\n",
    "import seaborn as sns\n",
    "import statsmodels.api as sm\n",
    "import tqdm\n",
    "import vectorbtpro as vbt\n",
    "\n",
    "import legitindicators as li\n",
    "import pandas_ta as pta\n",
    "\n",
    "from lib import utils, indicators, binance_loader"
   ]
  },
  {
   "cell_type": "code",
   "execution_count": 391,
   "metadata": {},
   "outputs": [],
   "source": [
    "df = binance_loader.load_ohlc_in_date_range('SOLUSDT', '2022-01-01', '2022-12-31')"
   ]
  },
  {
   "cell_type": "code",
   "execution_count": 384,
   "metadata": {},
   "outputs": [],
   "source": [
    "freq = '15min'\n",
    "df = df.resample(freq).agg({'open':'first', 'high':'max', 'low':'min', 'close':'last', 'volume':'sum', 'quoteVolume':'sum', 'nTrades':'sum', 'upVolume':'sum', 'upQuoteVolume':'sum'})"
   ]
  },
  {
   "cell_type": "code",
   "execution_count": 392,
   "metadata": {},
   "outputs": [],
   "source": [
    "for lag in range(1, 60, 2):\n",
    "    df[f'y_return_{lag:02d}'] = df['close'].pct_change(lag).shift(-lag)"
   ]
  },
  {
   "cell_type": "code",
   "execution_count": 398,
   "metadata": {},
   "outputs": [],
   "source": [
    "df['volume_delta'] = 2*df['upVolume'] - df['volume']\n",
    "for l in range(1, 60, 2):\n",
    "    df[f'vd_rolling_corr_{l:02d}'] = df['volume_delta'].rolling(l).corr(df[f'y_return_{lag:02d}'])\n",
    "    df[f'x_volume_delta_{l:02d}'] = df['volume_delta'].rolling(l).sum() #* df[f'vd_rolling_corr_{l:02d}'].clip(0, 1)"
   ]
  },
  {
   "cell_type": "code",
   "execution_count": 399,
   "metadata": {},
   "outputs": [],
   "source": [
    "def get_corrs(_df, pfx1, pfx2):\n",
    "    s1 = utils.get_prefixed_cols(_df, pfx1)\n",
    "    s2 = utils.get_prefixed_cols(_df, pfx2)\n",
    "    corrs = {}\n",
    "    for x in itertools.product(s1, s2):\n",
    "        corrs.update({x: _df[x[0]].corr(_df[x[1]])})\n",
    "    corrs = pd.Series(corrs).unstack()\n",
    "    return corrs"
   ]
  },
  {
   "cell_type": "code",
   "execution_count": 400,
   "metadata": {},
   "outputs": [],
   "source": [
    "corrs = get_corrs(df, 'x_volume_delta_', 'y_')"
   ]
  },
  {
   "cell_type": "code",
   "execution_count": 401,
   "metadata": {},
   "outputs": [],
   "source": [
    "from sklearn.model_selection import KFold"
   ]
  },
  {
   "cell_type": "code",
   "execution_count": null,
   "metadata": {},
   "outputs": [],
   "source": [
    "kf = KFold(4)\n",
    "\n",
    "for i, (train_index, test_index) in enumerate(kf.split(df)):\n",
    "    sdf = df.iloc[test_index]\n",
    "    corrs = get_corrs(sdf, 'x_volume_delta_', 'y_')\n",
    "    fig, ax = plt.subplots()\n",
    "    sns.heatmap(corrs, ax=ax)"
   ]
  },
  {
   "cell_type": "code",
   "execution_count": null,
   "metadata": {},
   "outputs": [],
   "source": [
    "fig = go.FigureWidget(make_subplots(rows=3, cols=1, shared_xaxes=True, row_heights=[0.6, 0.2, 0.2]))\n",
    "fig.add_trace(go.Candlestick(), row=1, col=1)\n",
    "fig.add_trace(go.Scatter(), row=2, col=1)\n",
    "fig.add_trace(go.Scatter(), row=3, col=1)\n",
    "fig.update_layout(height=600, margin=dict(l=20,r=20,b=20,t=20), xaxis=dict(rangeslider=dict(visible=False)))\n",
    "\n",
    "@interact(date=np.unique(df.index.date), col=df.columns, col2=df.columns)\n",
    "def update(date, col, col2):\n",
    "   with fig.batch_update():\n",
    "      _sdf = df.loc[str(date)]\n",
    "      fig.data[0].x, fig.data[0].open, fig.data[0].high = _sdf.index, _sdf['open'], _sdf['high']\n",
    "      fig.data[0].low, fig.data[0].close = _sdf['low'], _sdf['close']\n",
    "      fig.data[1].x, fig.data[1].y = _sdf.index, _sdf[col]\n",
    "      fig.data[2].x, fig.data[2].y = _sdf.index, _sdf[col2]\n",
    "      fig.update_layout()\n",
    "fig\n"
   ]
  },
  {
   "cell_type": "code",
   "execution_count": null,
   "metadata": {},
   "outputs": [],
   "source": []
  }
 ],
 "metadata": {
  "kernelspec": {
   "display_name": "trading_blog--0TPTIZL",
   "language": "python",
   "name": "python3"
  },
  "language_info": {
   "codemirror_mode": {
    "name": "ipython",
    "version": 3
   },
   "file_extension": ".py",
   "mimetype": "text/x-python",
   "name": "python",
   "nbconvert_exporter": "python",
   "pygments_lexer": "ipython3",
   "version": "3.9.1"
  }
 },
 "nbformat": 4,
 "nbformat_minor": 2
}
