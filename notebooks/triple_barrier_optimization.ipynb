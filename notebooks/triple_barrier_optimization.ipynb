{
 "cells": [
  {
   "cell_type": "code",
   "execution_count": 1,
   "metadata": {},
   "outputs": [],
   "source": [
    "import sys\n",
    "sys.path.append(\"..\")\n",
    "\n",
    "import datetime as dt\n",
    "from ipywidgets import interact\n",
    "import itertools\n",
    "from kneed import KneeLocator\n",
    "import matplotlib.pyplot as plt\n",
    "import numpy as np\n",
    "import pandas as pd\n",
    "import pandas_ta as pta\n",
    "import plotly.graph_objects as go\n",
    "from plotly.subplots import make_subplots\n",
    "import seaborn as sns\n",
    "import statsmodels.api as sm\n",
    "import vectorbtpro as vbt\n",
    "\n",
    "from lib import bitget_loader, utils"
   ]
  },
  {
   "cell_type": "code",
   "execution_count": null,
   "metadata": {},
   "outputs": [],
   "source": [
    "symbol = 'SOLUSDT'\n",
    "is_start = dt.date(2022,1,1)\n",
    "is_end = dt.date(2023,5,30)\n",
    "\n",
    "os_start = dt.date(2023,6,1)\n",
    "os_end = dt.date(2023,12,31)\n",
    "\n",
    "df = bitget_loader.load_klines_in_date_range(symbol, is_start, os_end).tz_convert(None) # convert to tz naive so I can loc with dates with pandas\n",
    "df = df.drop_duplicates() # bitget has overlaps in their data"
   ]
  },
  {
   "cell_type": "markdown",
   "metadata": {},
   "source": [
    "# Percentage Stop"
   ]
  },
  {
   "cell_type": "code",
   "execution_count": 4,
   "metadata": {},
   "outputs": [],
   "source": [
    "is_df = df.loc[is_start:is_end].copy()"
   ]
  },
  {
   "cell_type": "code",
   "execution_count": 5,
   "metadata": {},
   "outputs": [],
   "source": [
    "pf = vbt.Portfolio.from_random_signals(\n",
    "    close=is_df['close'], open=is_df['open'], high=is_df['high'], low=is_df['low'],\n",
    "    n=2000,\n",
    "    sl_stop=vbt.Param(np.arange(0.0005, 0.01, 0.00025)),\n",
    "    # tp_stop=vbt.Param(np.arange(0.0005, 0.01, 0.0005)),\n",
    "    direction='LongOnly',\n",
    "    td_stop=vbt.Param(np.arange(5, 61, 5)),\n",
    "    time_delta_format=0,\n",
    "    # delta_format='Target'\n",
    "    upon_long_conflict='Ignore'\n",
    ")"
   ]
  },
  {
   "cell_type": "code",
   "execution_count": 6,
   "metadata": {},
   "outputs": [],
   "source": [
    "wr = pf.trades.win_rate.unstack()\n",
    "wr.index = wr.index.round(4)"
   ]
  },
  {
   "cell_type": "code",
   "execution_count": 7,
   "metadata": {},
   "outputs": [],
   "source": [
    "knees = pd.Series([KneeLocator(x=wr.index, y=wr[td_stop]).knee for td_stop in wr.columns], wr.columns)"
   ]
  },
  {
   "cell_type": "code",
   "execution_count": null,
   "metadata": {},
   "outputs": [],
   "source": [
    "fig, ax = plt.subplots(1, 2, figsize=(12, 5))\n",
    "wr.plot(ax=ax[0])\n",
    "pd.Series([wr.loc[v, i] for i, v in knees.items()], knees).plot(marker='.', linestyle='', label='Knees', legend=True, ax=ax[0], ylabel='Win Rate', xlabel='Stop Loss (%)', grid=True)\n",
    "ax[0].legend(ncols=3)\n",
    "knees.plot(ax=ax[1], grid=True, ylabel='Stop Loss Knee', xlabel='Time Exit')\n",
    "fig.tight_layout()"
   ]
  },
  {
   "cell_type": "markdown",
   "metadata": {},
   "source": [
    "# ATR Stop"
   ]
  },
  {
   "cell_type": "code",
   "execution_count": 151,
   "metadata": {},
   "outputs": [],
   "source": [
    "is_df['tr'] = pta.true_range(is_df['high'], is_df['low'], is_df['close'])\n",
    "is_df['atr'] = is_df['tr'].ewm(60).mean()*np.sqrt(30)\n",
    "is_df['natr'] = is_df['atr']/is_df['close']"
   ]
  },
  {
   "cell_type": "code",
   "execution_count": 152,
   "metadata": {},
   "outputs": [],
   "source": [
    "atr_mults = np.arange(0.1, 2, 0.1)\n",
    "td_stops = np.arange(10, 120, 10)"
   ]
  },
  {
   "cell_type": "code",
   "execution_count": 164,
   "metadata": {},
   "outputs": [],
   "source": [
    "pf = vbt.Portfolio.from_random_signals(\n",
    "    close=is_df['close'], open=is_df['open'], high=is_df['high'], low=is_df['low'],\n",
    "    n=1000,\n",
    "    sl_stop=vbt.Param([(is_df['natr']*x).rename(x) for x in atr_mults]),\n",
    "    # tp_stop=vbt.Param(np.arange(0.0005, 0.01, 0.0005)),\n",
    "    direction='ShortOnly',\n",
    "    td_stop=vbt.Param(td_stops),\n",
    "    time_delta_format=0,\n",
    "    # delta_format='Target'\n",
    "    upon_long_conflict='Ignore'\n",
    ")"
   ]
  },
  {
   "cell_type": "code",
   "execution_count": 165,
   "metadata": {},
   "outputs": [],
   "source": [
    "wr = pf.trades.win_rate.unstack()\n",
    "wr.index = wr.index.str[7:].astype(int)\n",
    "wr = wr.sort_index()\n",
    "wr.index = atr_mults"
   ]
  },
  {
   "cell_type": "code",
   "execution_count": 166,
   "metadata": {},
   "outputs": [],
   "source": [
    "knees = pd.Series([KneeLocator(x=wr.index, y=wr[td_stop]).knee for td_stop in wr.columns], wr.columns)"
   ]
  },
  {
   "cell_type": "code",
   "execution_count": null,
   "metadata": {},
   "outputs": [],
   "source": [
    "fig, ax = plt.subplots(1, 2, figsize=(12, 5))\n",
    "wr.plot(ax=ax[0])\n",
    "pd.Series([wr.loc[v, i] for i, v in knees.items()], knees).plot(marker='.', linestyle='', label='Knees', legend=True, ax=ax[0], ylabel='Win Rate', xlabel='Stop Loss (N ATRs)', grid=True)\n",
    "ax[0].legend(ncols=3)\n",
    "knees.plot(ax=ax[1], grid=True, ylabel='Stop Loss Knee', xlabel='Time Exit')\n",
    "fig.tight_layout()"
   ]
  },
  {
   "cell_type": "code",
   "execution_count": 179,
   "metadata": {},
   "outputs": [],
   "source": [
    "wrs = []\n",
    "for barrier in [(is_df['natr']*x).rename(round(x, 2)) for x in atr_mults]:\n",
    "    pf = vbt.Portfolio.from_random_signals(\n",
    "    close=is_df['close'], open=is_df['open'], high=is_df['high'], low=is_df['low'],\n",
    "    n=1000,\n",
    "    sl_stop=barrier,\n",
    "    tp_stop=barrier,\n",
    "    direction='LongOnly',\n",
    "    td_stop=vbt.Param(td_stops),\n",
    "    time_delta_format=0,\n",
    "    # delta_format='Target'\n",
    "    upon_long_conflict='Ignore'\n",
    "    )\n",
    "    records = pf.trades.records\n",
    "    records['td_stop'] = pf.trades.win_rate.index[records['col']]\n",
    "    records['is_td_stop'] = (records['exit_idx'] - records['entry_idx']) == records['td_stop']\n",
    "    wrs.append(records.groupby('col').apply(lambda d: d['is_td_stop'].mean()))"
   ]
  },
  {
   "cell_type": "code",
   "execution_count": 180,
   "metadata": {},
   "outputs": [],
   "source": [
    "wr = pd.concat(wrs, axis=1)\n",
    "wr.columns = atr_mults.round(2)\n",
    "wr.index = td_stops"
   ]
  },
  {
   "cell_type": "code",
   "execution_count": 181,
   "metadata": {},
   "outputs": [],
   "source": [
    "wr.columns.name = 'atr_mult'"
   ]
  },
  {
   "cell_type": "code",
   "execution_count": null,
   "metadata": {},
   "outputs": [],
   "source": [
    "wr.plot(xlabel='td_stop', ylabel='Win Rate')\n",
    "plt.axhline(0.33)\n",
    "plt.grid()\n",
    "plt.legend(ncols=4)"
   ]
  },
  {
   "cell_type": "code",
   "execution_count": 13,
   "metadata": {},
   "outputs": [],
   "source": [
    "# records = pf.trades.records\n",
    "# records['dt'] = is_df.index[records['entry_idx']]\n",
    "# records['exit_dt'] = is_df.index[records['exit_idx']]\n",
    "# records['sl'] = is_df['sl'].iloc[records['entry_idx']].values\n",
    "# records['tp'] = is_df['tp'].iloc[records['entry_idx']].values\n",
    "# records = records.set_index('dt')"
   ]
  },
  {
   "cell_type": "code",
   "execution_count": 14,
   "metadata": {},
   "outputs": [],
   "source": [
    "# fig = go.FigureWidget(make_subplots(rows=1, cols=1, shared_xaxes=True))\n",
    "# fig.add_trace(go.Candlestick(), row=1, col=1)\n",
    "# fig.add_trace(go.Scatter(mode='markers'), row=1, col=1)\n",
    "# fig.add_trace(go.Scatter(mode='markers'), row=1, col=1)\n",
    "# fig.add_trace(go.Scatter(mode='markers', marker=dict(symbol='x', size=12, color='green')), row=1, col=1)\n",
    "# fig.add_trace(go.Scatter(mode='markers', marker=dict(symbol='x', size=12, color='red')), row=1, col=1)\n",
    "# fig.update_layout(height=800, margin=dict(l=20,r=20,b=20,t=20), xaxis=dict(rangeslider=dict(visible=False)))\n",
    "\n",
    "# @interact(r=records['id'], col=df.columns, col2=df.columns)\n",
    "# def update(r, col, col2):\n",
    "#    with fig.batch_update():\n",
    "#       _r = records[records['id']==r].iloc[0]\n",
    "#       _sdf = is_df.iloc[_r['entry_idx']-20:_r['exit_idx']+20]\n",
    "      \n",
    "#       print(_r)\n",
    "#       fig.data[0].x, fig.data[0].open, fig.data[0].high = _sdf.index, _sdf['open'], _sdf['high']\n",
    "#       fig.data[0].low, fig.data[0].close = _sdf['low'], _sdf['close']\n",
    "#       fig.data[1].x, fig.data[1].y = _sdf.index[20:-20], np.repeat(_r['sl'], _sdf.iloc[20:-20].shape[0])\n",
    "#       fig.data[2].x, fig.data[2].y = _sdf.index[20:-20], np.repeat(_r['tp'], _sdf.iloc[20:-20].shape[0])\n",
    "#       fig.data[3].x, fig.data[3].y = [_sdf.index[20]], [_r['entry_price']]\n",
    "#       fig.data[4].x, fig.data[4].y = [_sdf.index[-20]], [_r['exit_price']]\n",
    "#       fig.update_layout()\n",
    "# fig"
   ]
  },
  {
   "cell_type": "code",
   "execution_count": null,
   "metadata": {},
   "outputs": [],
   "source": []
  }
 ],
 "metadata": {
  "kernelspec": {
   "display_name": "trading_blog--0TPTIZL",
   "language": "python",
   "name": "python3"
  },
  "language_info": {
   "codemirror_mode": {
    "name": "ipython",
    "version": 3
   },
   "file_extension": ".py",
   "mimetype": "text/x-python",
   "name": "python",
   "nbconvert_exporter": "python",
   "pygments_lexer": "ipython3",
   "version": "3.9.1"
  }
 },
 "nbformat": 4,
 "nbformat_minor": 2
}
