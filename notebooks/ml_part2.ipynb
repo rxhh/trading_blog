{
 "cells": [
  {
   "cell_type": "code",
   "execution_count": null,
   "metadata": {},
   "outputs": [],
   "source": [
    "import sys\n",
    "sys.path.append(\"..\")\n",
    "\n",
    "import datetime as dt\n",
    "from ipywidgets import interact\n",
    "import itertools\n",
    "import matplotlib.pyplot as plt\n",
    "import numpy as np\n",
    "import pandas as pd\n",
    "import pandas_ta as pta\n",
    "import plotly.graph_objects as go\n",
    "from plotly.subplots import make_subplots\n",
    "import seaborn as sns\n",
    "import statsmodels.api as sm\n",
    "import vectorbtpro as vbt\n",
    "\n",
    "from lib import bitget_loader, utils"
   ]
  },
  {
   "cell_type": "markdown",
   "metadata": {},
   "source": [
    "# Setup"
   ]
  },
  {
   "cell_type": "code",
   "execution_count": null,
   "metadata": {},
   "outputs": [],
   "source": [
    "symbol = 'ADAUSDT'\n",
    "is_start = dt.date(2022,1,1)\n",
    "is_end = dt.date(2022,12,31)\n",
    "\n",
    "os_start = dt.date(2023,1,1)\n",
    "os_end = dt.date(2024,4,18)\n",
    "\n",
    "df = bitget_loader.load_klines_in_date_range(symbol, is_start, os_end).tz_convert(None) # convert to tz naive so I can loc with dates with pandas\n",
    "df = df.drop_duplicates() # bitget has overlaps in their data"
   ]
  },
  {
   "cell_type": "code",
   "execution_count": null,
   "metadata": {},
   "outputs": [],
   "source": [
    "df = df.resample('15min').agg({'open':'first', 'high':'max', 'low':'min', 'close':'last', 'volume':'sum', 'usdtvolume':'sum'})"
   ]
  },
  {
   "cell_type": "markdown",
   "metadata": {},
   "source": [
    "# Target"
   ]
  },
  {
   "cell_type": "code",
   "execution_count": null,
   "metadata": {},
   "outputs": [],
   "source": [
    "df['y_return'] = np.where(df['close']-df['open']>0, 1, np.where(df['close']-df['open']<0, -1, np.nan))\n",
    "#df['y_return'] = df['close'].diff(5)>0\n",
    "df['y_return'] = df['y_return'].shift(-1)\n",
    "df = df.dropna() # last row has no target, so drop it"
   ]
  },
  {
   "cell_type": "markdown",
   "metadata": {},
   "source": [
    "# Features"
   ]
  },
  {
   "cell_type": "markdown",
   "metadata": {},
   "source": [
    "## Momentum"
   ]
  },
  {
   "cell_type": "code",
   "execution_count": null,
   "metadata": {},
   "outputs": [],
   "source": [
    "df['x_return_zs'] = pta.zscore(df['close'].pct_change(), 200)"
   ]
  },
  {
   "cell_type": "code",
   "execution_count": null,
   "metadata": {},
   "outputs": [],
   "source": [
    "for l in [7, 25, 99]:\n",
    "    df[f'sma_{l}'] = df['close'].rolling(l).mean()\n",
    "    df[f'x_sma_{l}_roc'] = df[f'sma_{l}'].pct_change()\n",
    "    df[f'x_sma_{l}_distance'] = (df['close']-df[f'sma_{l}'])/df[f'sma_{l}']\n",
    "\n",
    "for p in itertools.combinations([7, 25, 99], 2):\n",
    "    df[f'x_sma_{p[0]}_{p[1]}_distance'] = (df[f'sma_{p[0]}']-df[f'sma_{p[1]}'])/df[f'sma_{p[1]}']"
   ]
  },
  {
   "cell_type": "code",
   "execution_count": null,
   "metadata": {},
   "outputs": [],
   "source": [
    "for l in [7, 25, 99]:\n",
    "    df[[f'x_adx_{l}', f'x_dmp_{l}', f'x_dmn_{l}']] = pta.adx(df['high'], df['low'], df['close'], l)"
   ]
  },
  {
   "cell_type": "markdown",
   "metadata": {},
   "source": [
    "## Volume"
   ]
  },
  {
   "cell_type": "code",
   "execution_count": null,
   "metadata": {},
   "outputs": [],
   "source": [
    "df['logvolume'] = np.log(df['volume'])"
   ]
  },
  {
   "cell_type": "code",
   "execution_count": null,
   "metadata": {},
   "outputs": [],
   "source": [
    "fig, ax = plt.subplots(1,2, figsize=(12, 4))\n",
    "df['volume'][df['volume'].rank(pct=True)<0.9].hist(ax=ax[0])\n",
    "df['logvolume'].hist(ax=ax[1])\n",
    "ax[0].set_title(\"Distribution of Volume\")\n",
    "ax[1].set_title(\"Distribution of log(Volume)\")"
   ]
  },
  {
   "cell_type": "code",
   "execution_count": null,
   "metadata": {},
   "outputs": [],
   "source": [
    "df['x_logvolume_zs'] = pta.zscore(df['logvolume'], 20)\n",
    "df['x_logvolume_zs_ma'] = df['x_logvolume_zs'].rolling(20).mean()\n",
    "df['x_relative_volume_zs'] = df['logvolume'].groupby(df.index.time).apply(lambda d: pta.zscore(d, 20)).droplevel(0).sort_index()\n",
    "df['x_relative_volume_zs_ma'] = df['x_relative_volume_zs'].rolling(20).mean()\n",
    "df['x_volume_corr'] = df['volume'].rolling(20).corr(df['close'].pct_change().abs())"
   ]
  },
  {
   "cell_type": "markdown",
   "metadata": {},
   "source": [
    "## Volatility"
   ]
  },
  {
   "cell_type": "code",
   "execution_count": null,
   "metadata": {},
   "outputs": [],
   "source": [
    "df['tr'] = pta.true_range(df['high'], df['low'], df['close'])\n",
    "df['logtr'] = np.log(df['tr'])\n",
    "\n",
    "df['x_tr_zs'] = pta.zscore(df['logtr'], 20)\n",
    "df['x_tr_zs_ma'] = df['x_tr_zs'].rolling(20).mean()\n",
    "df['x_relative_tr_zs'] = df['logtr'].groupby(df.index.time).apply(lambda d: pta.zscore(d, 20)).droplevel(0).sort_index()\n",
    "df['x_relative_tr_zs_ma'] = df['x_relative_tr_zs'].rolling(20).mean()\n",
    "df['x_range_zs'] = pta.zscore(np.log((df['high']-df['low'])/df['open']), 200)"
   ]
  },
  {
   "cell_type": "code",
   "execution_count": null,
   "metadata": {},
   "outputs": [],
   "source": [
    "df['natr'] = df['tr'].ewm(720).mean()/df['close']"
   ]
  },
  {
   "cell_type": "markdown",
   "metadata": {},
   "source": [
    "## Plot"
   ]
  },
  {
   "cell_type": "code",
   "execution_count": null,
   "metadata": {},
   "outputs": [],
   "source": [
    "fig = go.FigureWidget(make_subplots(rows=3, cols=1, shared_xaxes=True, row_heights=[0.6, 0.2, 0.2]))\n",
    "fig.add_trace(go.Candlestick(), row=1, col=1)\n",
    "fig.add_trace(go.Scatter(), row=2, col=1)\n",
    "fig.add_trace(go.Scatter(), row=3, col=1)\n",
    "fig.update_layout(height=600, margin=dict(l=20,r=20,b=20,t=20), xaxis=dict(rangeslider=dict(visible=False)))\n",
    "\n",
    "@interact(date=np.unique(df.index.date), col=df.columns, col2=df.columns)\n",
    "def update(date, col, col2):\n",
    "   with fig.batch_update():\n",
    "      _sdf = df.loc[str(date)]\n",
    "      fig.data[0].x, fig.data[0].open, fig.data[0].high = _sdf.index, _sdf['open'], _sdf['high']\n",
    "      fig.data[0].low, fig.data[0].close = _sdf['low'], _sdf['close']\n",
    "      fig.data[1].x, fig.data[1].y = _sdf.index, _sdf[col]\n",
    "      fig.data[2].x, fig.data[2].y = _sdf.index, _sdf[col2]\n",
    "      fig.update_layout()\n",
    "fig\n"
   ]
  },
  {
   "cell_type": "markdown",
   "metadata": {},
   "source": [
    "# Training"
   ]
  },
  {
   "cell_type": "code",
   "execution_count": null,
   "metadata": {},
   "outputs": [],
   "source": [
    "from pycaret.classification import ClassificationExperiment"
   ]
  },
  {
   "cell_type": "code",
   "execution_count": null,
   "metadata": {},
   "outputs": [],
   "source": [
    "x_train = df.loc[:is_end][utils.get_prefixed_cols(df, 'x_')]\n",
    "y_train = df.loc[:is_end]['y_return']"
   ]
  },
  {
   "cell_type": "code",
   "execution_count": null,
   "metadata": {},
   "outputs": [],
   "source": [
    "exp = ClassificationExperiment()\n",
    "exp.setup(\n",
    "    data=x_train, target=y_train,\n",
    "    train_size=0.7,\n",
    "    data_split_shuffle=False,\n",
    "    data_split_stratify=False,\n",
    "    numeric_imputation='drop',\n",
    "    remove_multicollinearity=True,\n",
    "    multicollinearity_threshold=0.8,\n",
    "    normalize=True,\n",
    "    pca=False,\n",
    "    feature_selection=True,\n",
    "    n_features_to_select=0.5,\n",
    "    remove_outliers=False,\n",
    "    fold_strategy='kfold',\n",
    "    fold=5,\n",
    "    fold_shuffle=False,\n",
    "    )"
   ]
  },
  {
   "cell_type": "code",
   "execution_count": null,
   "metadata": {},
   "outputs": [],
   "source": [
    "exp.X_transformed.columns"
   ]
  },
  {
   "cell_type": "code",
   "execution_count": null,
   "metadata": {},
   "outputs": [],
   "source": [
    "best = exp.compare_models(n_select=3)"
   ]
  },
  {
   "cell_type": "code",
   "execution_count": null,
   "metadata": {},
   "outputs": [],
   "source": [
    "#best = exp.create_model('lr')"
   ]
  },
  {
   "cell_type": "code",
   "execution_count": null,
   "metadata": {},
   "outputs": [],
   "source": [
    "#exp.tune_model(best)"
   ]
  },
  {
   "cell_type": "code",
   "execution_count": null,
   "metadata": {},
   "outputs": [],
   "source": [
    "exp.plot_model(best[0], 'threshold')"
   ]
  },
  {
   "cell_type": "code",
   "execution_count": null,
   "metadata": {},
   "outputs": [],
   "source": [
    "exp.plot_model(best[2], 'threshold')"
   ]
  },
  {
   "cell_type": "markdown",
   "metadata": {},
   "source": [
    "## Modelling Holdout Accuracy"
   ]
  },
  {
   "cell_type": "markdown",
   "metadata": {},
   "source": [
    "## Backtest in Modelling Holdout"
   ]
  },
  {
   "cell_type": "code",
   "execution_count": null,
   "metadata": {},
   "outputs": [],
   "source": [
    "bdf = df.loc[exp.test.index]\n",
    "bdf[['prediction_label', 'prediction_score']] = exp.predict_model(best[0])[['prediction_label', 'prediction_score']]"
   ]
  },
  {
   "cell_type": "code",
   "execution_count": null,
   "metadata": {},
   "outputs": [],
   "source": [
    "le = bdf['prediction_label'] == 1\n",
    "le &= bdf['prediction_score'] > 0.7\n",
    "\n",
    "se = bdf['prediction_label'] == -1\n",
    "se &= bdf['prediction_score'] > 0.7\n",
    "\n",
    "le = utils.crossover(le, 0.5)\n",
    "se = utils.crossover(se, 0.5)\n",
    "\n",
    "pf = vbt.Portfolio.from_signals(\n",
    "    bdf['close'], open=bdf['open'], high=bdf['high'], low=bdf['low'],\n",
    "    entries=le, short_entries=se,\n",
    "    freq='5min',\n",
    "    td_stop=2,\n",
    "    time_delta_format=0,\n",
    ")"
   ]
  },
  {
   "cell_type": "code",
   "execution_count": null,
   "metadata": {},
   "outputs": [],
   "source": [
    "pf.stats()"
   ]
  },
  {
   "cell_type": "code",
   "execution_count": null,
   "metadata": {},
   "outputs": [],
   "source": [
    "pf.value.plot()"
   ]
  },
  {
   "cell_type": "markdown",
   "metadata": {},
   "source": [
    "### TPSL Opt, Pct Based"
   ]
  },
  {
   "cell_type": "code",
   "execution_count": null,
   "metadata": {},
   "outputs": [],
   "source": [
    "tpsl_mults = np.arange(0.005, 0.2, 0.005)\n",
    "pf = vbt.Portfolio.from_signals(\n",
    "    bdf['close'], open=bdf['open'], high=bdf['high'], low=bdf['low'],\n",
    "    entries=le, short_entries=se,\n",
    "    freq='5min',\n",
    "    td_stop=2,\n",
    "    time_delta_format=0,\n",
    "    sl_stop=vbt.Param(tpsl_mults),\n",
    "    tp_stop=vbt.Param(tpsl_mults),\n",
    "    slippage=0.0001,\n",
    ")"
   ]
  },
  {
   "cell_type": "code",
   "execution_count": null,
   "metadata": {},
   "outputs": [],
   "source": [
    "#stat_result = pf.trades.get_profit_factor().unstack()\n",
    "stat_result = pf.trades.win_rate.unstack()\n",
    "stat_result = stat_result.sort_index().sort_index(axis=1)"
   ]
  },
  {
   "cell_type": "code",
   "execution_count": null,
   "metadata": {},
   "outputs": [],
   "source": [
    "sns.heatmap(stat_result, annot=False)"
   ]
  },
  {
   "cell_type": "markdown",
   "metadata": {},
   "source": [
    "### TPSL Opt, ATR Based"
   ]
  },
  {
   "cell_type": "code",
   "execution_count": null,
   "metadata": {},
   "outputs": [],
   "source": [
    "tpsl_mults = np.arange(0.5, 5, 0.25)\n",
    "pf = vbt.Portfolio.from_signals(\n",
    "    bdf['close'], open=bdf['open'], high=bdf['high'], low=bdf['low'],\n",
    "    entries=le, short_entries=se,\n",
    "    freq='5min',\n",
    "    td_stop=2,\n",
    "    time_delta_format=0,\n",
    "    sl_stop=vbt.Param([x*bdf['natr'] for x in tpsl_mults]),\n",
    "    tp_stop=vbt.Param([x*bdf['natr'] for x in tpsl_mults]),\n",
    "    slippage=0.0001,\n",
    ")"
   ]
  },
  {
   "cell_type": "code",
   "execution_count": null,
   "metadata": {},
   "outputs": [],
   "source": [
    "stat_result = pf.trades.get_profit_factor().unstack()\n",
    "stat_result.index = stat_result.index.str[7:].astype(int)\n",
    "stat_result.columns = stat_result.columns.str[7:].astype(int)\n",
    "stat_result = stat_result.sort_index().sort_index(axis=1)\n",
    "stat_result.index = tpsl_mults\n",
    "stat_result.columns = tpsl_mults"
   ]
  },
  {
   "cell_type": "code",
   "execution_count": null,
   "metadata": {},
   "outputs": [],
   "source": [
    "sns.heatmap(stat_result, annot=False)"
   ]
  },
  {
   "cell_type": "code",
   "execution_count": null,
   "metadata": {},
   "outputs": [],
   "source": [
    "pf = vbt.Portfolio.from_signals(\n",
    "    bdf['close'], open=bdf['open'], high=bdf['high'], low=bdf['low'],\n",
    "    entries=le, short_entries=se,\n",
    "    freq='5min',\n",
    "    td_stop=2,\n",
    "    time_delta_format=0,\n",
    "    #sl_stop=5*bdf['natr'],\n",
    "    #tp_stop=5*bdf['natr'],\n",
    "    #sl_stop=0.05,\n",
    "    #tp_stop=0.1,\n",
    "    slippage=0.0001,\n",
    ")"
   ]
  },
  {
   "cell_type": "code",
   "execution_count": null,
   "metadata": {},
   "outputs": [],
   "source": [
    "pf.stats()"
   ]
  },
  {
   "cell_type": "code",
   "execution_count": null,
   "metadata": {},
   "outputs": [],
   "source": [
    "pf.value.plot()"
   ]
  },
  {
   "cell_type": "markdown",
   "metadata": {},
   "source": [
    "# Backtest OOS"
   ]
  },
  {
   "cell_type": "code",
   "execution_count": null,
   "metadata": {},
   "outputs": [],
   "source": [
    "final_model = exp.finalize_model(best[0])"
   ]
  },
  {
   "cell_type": "code",
   "execution_count": null,
   "metadata": {},
   "outputs": [],
   "source": [
    "os_df = df.loc[os_start:]\n",
    "os_df['prediction_label'] = final_model.predict(os_df[utils.get_prefixed_cols(os_df, 'x_')]).values\n",
    "os_df['prediction_score'] = final_model.predict_proba(os_df[utils.get_prefixed_cols(os_df, 'x_')])[:,1]\n",
    "os_df['prediction_score'] = np.where(os_df['prediction_label']==1, os_df['prediction_score'], 1-os_df['prediction_score'])"
   ]
  },
  {
   "cell_type": "code",
   "execution_count": null,
   "metadata": {},
   "outputs": [],
   "source": [
    "le = os_df['prediction_label'] == 1\n",
    "le &= os_df['prediction_score'] > 0.8\n",
    "se = os_df['prediction_label'] == -1\n",
    "se &= os_df['prediction_score'] > 0.8\n",
    "\n",
    "le = utils.crossover(le, 0.5)\n",
    "se = utils.crossover(se, 0.5)\n",
    "\n",
    "pf = vbt.Portfolio.from_signals(\n",
    "    os_df['close'], open=os_df['open'], high=os_df['high'], low=os_df['low'],\n",
    "    entries=le, short_entries=se,\n",
    "    freq='5min',\n",
    "    td_stop=2,\n",
    "    time_delta_format=0,\n",
    "    sl_stop=4*os_df['natr'],\n",
    "    #tp_stop=3.75*os_df['natr'],\n",
    "    slippage=0.0001,\n",
    ")"
   ]
  },
  {
   "cell_type": "code",
   "execution_count": null,
   "metadata": {},
   "outputs": [],
   "source": [
    "pf.stats()"
   ]
  },
  {
   "cell_type": "code",
   "execution_count": null,
   "metadata": {},
   "outputs": [],
   "source": [
    "pf.value.plot()"
   ]
  },
  {
   "cell_type": "code",
   "execution_count": null,
   "metadata": {},
   "outputs": [],
   "source": [
    "records = pf.trades.records\n",
    "records['dt'] = os_df.index[records['entry_idx']]\n",
    "records['exit_dt'] = os_df.index[records['exit_idx']]\n",
    "records['sl'] = 4*os_df['natr'].iloc[records['entry_idx']].values\n",
    "records['realized_r'] = records['return']/records['sl']\n",
    "records = records.set_index('dt')"
   ]
  },
  {
   "cell_type": "code",
   "execution_count": null,
   "metadata": {},
   "outputs": [],
   "source": [
    "records['realized_r'].cumsum().vbt.plot().show(renderer='png')"
   ]
  },
  {
   "cell_type": "markdown",
   "metadata": {},
   "source": [
    "# Rolling Weekly Train-Predict"
   ]
  },
  {
   "cell_type": "code",
   "execution_count": null,
   "metadata": {},
   "outputs": [],
   "source": [
    "df['weeknum'] = (df.index.weekday.diff() < 0).cumsum()"
   ]
  },
  {
   "cell_type": "code",
   "execution_count": null,
   "metadata": {},
   "outputs": [],
   "source": [
    "training_window = 52\n",
    "\n",
    "df['prediction_label'] = np.nan\n",
    "df['prediction_score'] = np.nan\n",
    "\n",
    "for week in range(training_window+2, df['weeknum'].max()+1):\n",
    "    train_df = df[df['weeknum'].between(week-training_window, week-1)]\n",
    "    pred_df = df[df['weeknum']==week]\n",
    "\n",
    "    df['prediction_label'].update(pd.Series(final_model.predict(pred_df[utils.get_prefixed_cols(pred_df, 'x_')]).values, pred_df.index))\n",
    "    df['prediction_score'].update(pd.Series(final_model.predict_proba(pred_df[utils.get_prefixed_cols(pred_df, 'x_')])[:,1], pred_df.index))\n",
    "\n",
    "df['prediction_score'] = np.where(df['prediction_label']==1, df['prediction_score'], 1-df['prediction_score'])"
   ]
  },
  {
   "cell_type": "code",
   "execution_count": null,
   "metadata": {},
   "outputs": [],
   "source": [
    "le = df['prediction_label'] == 1\n",
    "le &= df['prediction_score'] > 0.8\n",
    "se = df['prediction_label'] == -1\n",
    "se &= df['prediction_score'] > 0.8\n",
    "\n",
    "le = utils.crossover(le, 0.5)\n",
    "se = utils.crossover(se, 0.5)\n",
    "\n",
    "pf = vbt.Portfolio.from_signals(\n",
    "    df['close'], open=df['open'], high=df['high'], low=df['low'],\n",
    "    entries=le, short_entries=se,\n",
    "    freq='15min',\n",
    "    td_stop=2,\n",
    "    time_delta_format=0,\n",
    "    sl_stop=3*df['natr'],\n",
    "    tp_stop=5*df['natr'],\n",
    "    slippage=0.0001,\n",
    ")"
   ]
  },
  {
   "cell_type": "code",
   "execution_count": null,
   "metadata": {},
   "outputs": [],
   "source": [
    "pf.stats()"
   ]
  },
  {
   "cell_type": "code",
   "execution_count": null,
   "metadata": {},
   "outputs": [],
   "source": [
    "pf.value.plot()"
   ]
  },
  {
   "cell_type": "code",
   "execution_count": null,
   "metadata": {},
   "outputs": [],
   "source": [
    "records = pf.trades.records\n",
    "records['dt'] = df.index[records['entry_idx']]\n",
    "records['exit_dt'] = df.index[records['exit_idx']]\n",
    "#records['sl'] = 0.01\n",
    "records['sl'] = 3*df['natr'].iloc[records['entry_idx']].values\n",
    "records['realized_r'] = records['return']/records['sl']\n",
    "records = records.set_index('dt')"
   ]
  },
  {
   "cell_type": "code",
   "execution_count": null,
   "metadata": {},
   "outputs": [],
   "source": [
    "records['realized_r'].cumsum().vbt.plot().show(renderer='png')"
   ]
  },
  {
   "cell_type": "code",
   "execution_count": null,
   "metadata": {},
   "outputs": [],
   "source": []
  },
  {
   "cell_type": "code",
   "execution_count": null,
   "metadata": {},
   "outputs": [],
   "source": []
  }
 ],
 "metadata": {
  "kernelspec": {
   "display_name": "trading_blog-4UPSDfUr",
   "language": "python",
   "name": "python3"
  },
  "language_info": {
   "codemirror_mode": {
    "name": "ipython",
    "version": 3
   },
   "file_extension": ".py",
   "mimetype": "text/x-python",
   "name": "python",
   "nbconvert_exporter": "python",
   "pygments_lexer": "ipython3",
   "version": "3.9.13"
  }
 },
 "nbformat": 4,
 "nbformat_minor": 2
}
