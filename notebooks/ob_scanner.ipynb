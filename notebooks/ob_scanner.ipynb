{
 "cells": [
  {
   "cell_type": "code",
   "execution_count": 129,
   "metadata": {},
   "outputs": [],
   "source": [
    "import sys\n",
    "sys.path.append(\"..\")\n",
    "\n",
    "import ccxt\n",
    "import datetime as dt\n",
    "import json\n",
    "import numpy as np\n",
    "import pandas as pd\n",
    "import tqdm\n",
    "from bitget.ws.bitget_ws_client import BitgetWsClient, SubscribeReq\n",
    "from lib import utils"
   ]
  },
  {
   "cell_type": "code",
   "execution_count": 96,
   "metadata": {},
   "outputs": [],
   "source": [
    "bitget = ccxt.bitget()"
   ]
  },
  {
   "cell_type": "code",
   "execution_count": 97,
   "metadata": {},
   "outputs": [],
   "source": [
    "tickers = pd.DataFrame(bitget.fetchTickers())\n",
    "markets = pd.DataFrame(bitget.fetchMarkets())"
   ]
  },
  {
   "cell_type": "code",
   "execution_count": null,
   "metadata": {},
   "outputs": [],
   "source": [
    "ticker_info = pd.DataFrame.from_records(tickers.loc['info'].values)\n",
    "ticker_info"
   ]
  },
  {
   "cell_type": "code",
   "execution_count": null,
   "metadata": {},
   "outputs": [],
   "source": [
    "perps = markets[markets['swap']].set_index('id')\n",
    "perp_info = ticker_info[ticker_info['symbol'].isin(perps.index)].sort_values('change24h', ascending=False)\n",
    "perp_info"
   ]
  },
  {
   "cell_type": "code",
   "execution_count": null,
   "metadata": {},
   "outputs": [],
   "source": [
    "perp_info.sort_values('usdtVolume')"
   ]
  },
  {
   "cell_type": "code",
   "execution_count": 110,
   "metadata": {},
   "outputs": [],
   "source": [
    "top = perp_info['symbol'].values[:50]\n",
    "\n",
    "all_symbols = perp_info['symbol'].values"
   ]
  },
  {
   "cell_type": "markdown",
   "metadata": {},
   "source": [
    "# Screener"
   ]
  },
  {
   "cell_type": "code",
   "execution_count": null,
   "metadata": {},
   "outputs": [],
   "source": [
    "for x in list(all_symbols):\n",
    "    print(f\"BITGET:{x}.P\")"
   ]
  },
  {
   "cell_type": "code",
   "execution_count": 102,
   "metadata": {},
   "outputs": [],
   "source": [
    "s = 'NEARUSDT'"
   ]
  },
  {
   "cell_type": "code",
   "execution_count": null,
   "metadata": {},
   "outputs": [],
   "source": [
    "screen = []\n",
    "\n",
    "changes = []\n",
    "for s in tqdm.tqdm(all_symbols):\n",
    "    df = pd.DataFrame(bitget.fetchOHLCV(symbol=perps.loc[s, 'symbol'], timeframe='5m', limit=600))\n",
    "    df = df.set_index(pd.to_datetime(df[0].astype(int), unit='ms')).drop(columns=0).astype(float)\n",
    "    df.columns=['open', 'high', 'low', 'close', 'volume']\n",
    "    df.index.name = 'dt'\n",
    "    df['volatility'] = 100*df['close'].pct_change().rolling(288).std()\n",
    "    df['change'] = 100*df['close'].pct_change(288)\n",
    "    df['change_peak'] = df['change'].abs().rolling(200).max()\n",
    "    \n",
    "    screen.append({\n",
    "        'symbol': s,\n",
    "        'volatility': df['volatility'].iloc[-1],\n",
    "        'change': df['change'].iloc[-1],\n",
    "        'change_peak': df['change_peak'].iloc[-1],\n",
    "    })\n",
    "    \n",
    "    changes.append(df['change'].rename(s))\n",
    "screen = pd.DataFrame(screen).set_index('symbol')\n",
    "changes = pd.concat(changes, axis=1)"
   ]
  },
  {
   "cell_type": "code",
   "execution_count": null,
   "metadata": {},
   "outputs": [],
   "source": [
    "changes.rank(axis=1).diff(72).iloc[-1].sort_values(ascending=False).head(20)"
   ]
  },
  {
   "cell_type": "code",
   "execution_count": null,
   "metadata": {},
   "outputs": [],
   "source": [
    "changes.rank(axis=1).diff(72).iloc[-1].sort_values(ascending=False).tail(20)"
   ]
  },
  {
   "cell_type": "code",
   "execution_count": null,
   "metadata": {},
   "outputs": [],
   "source": [
    "screen['change'].sort_values()"
   ]
  },
  {
   "cell_type": "code",
   "execution_count": null,
   "metadata": {},
   "outputs": [],
   "source": [
    "screen[['volatility', 'change_peak']].rank(pct=True).mean(axis=1).sort_values(ascending=False)"
   ]
  },
  {
   "cell_type": "code",
   "execution_count": null,
   "metadata": {},
   "outputs": [],
   "source": [
    "screen.sort_values('volatility', ascending=False)"
   ]
  },
  {
   "cell_type": "markdown",
   "metadata": {},
   "source": [
    "# Streaming Bars"
   ]
  },
  {
   "cell_type": "code",
   "execution_count": null,
   "metadata": {},
   "outputs": [],
   "source": [
    "wsclient = BitgetWsClient('wss://ws.bitget.com/v2/ws/public').build()"
   ]
  },
  {
   "cell_type": "code",
   "execution_count": 40,
   "metadata": {},
   "outputs": [],
   "source": [
    "class BarStreamer():\n",
    "    def __init__(self, wsclient, inst, interval):\n",
    "        self.wsclient = wsclient\n",
    "        self.inst = inst\n",
    "        self.interval = interval\n",
    "        self.channels = [SubscribeReq(instType=\"USDT-FUTURES\", channel=f\"candle{interval}\", instId=inst)]\n",
    "        self.data = None\n",
    "        self.on_bar_close_callback = None\n",
    "        return\n",
    "    \n",
    "    def subscribe(self):\n",
    "        self.data = pd.DataFrame(bitget.fetchOHLCV(symbol=perps.loc[self.inst, 'symbol'], timeframe=self.interval, limit=1000))\n",
    "        self.data = self.data.set_index(self.data[0].astype(int)).astype(float)\n",
    "        self.wsclient.subscribe(self.channels, self.on_market_data)\n",
    "        return\n",
    "    \n",
    "    def unsubscribe(self):\n",
    "        self.wsclient.unsubscribe(self.channels)\n",
    "        return\n",
    "    \n",
    "    def on_market_data(self, d):\n",
    "        message = json.loads(d)\n",
    "        new_df = pd.DataFrame(message['data'])\n",
    "        new_df = new_df.set_index(new_df[0].astype(int)).astype(float)\n",
    "        for i, row in new_df.iterrows():\n",
    "            self.data.loc[i] = row\n",
    "        if self.on_bar_close_callback: on_bar_close_callback(self.get_data())\n",
    "    \n",
    "    def get_data(self):\n",
    "        return pd.DataFrame(self.data.values, pd.to_datetime(self.data.index, unit='ms'), ['ts', 'open', 'high', 'low', 'close', 'volume'])"
   ]
  },
  {
   "cell_type": "code",
   "execution_count": 41,
   "metadata": {},
   "outputs": [],
   "source": [
    "bs = BarStreamer(wsclient, 'KEYUSDT', '1m')"
   ]
  },
  {
   "cell_type": "code",
   "execution_count": null,
   "metadata": {},
   "outputs": [],
   "source": [
    "bs.subscribe()"
   ]
  },
  {
   "cell_type": "code",
   "execution_count": 43,
   "metadata": {},
   "outputs": [],
   "source": [
    "# bs.unsubscribe()"
   ]
  },
  {
   "cell_type": "code",
   "execution_count": 84,
   "metadata": {},
   "outputs": [],
   "source": [
    "swing_len = 5\n",
    "\n",
    "def get_ob(df, swing_len):\n",
    "    df['upper'] = df['high'].rolling(swing_len).max()\n",
    "    df['lower'] = df['low'].rolling(swing_len).min()\n",
    "    df['os'] = np.where(df['high'].shift(swing_len) > df['upper'], 0, np.where(df['low'].shift(swing_len) < df['lower'], 1, np.nan))\n",
    "    df['os'] = df['os'].ffill()\n",
    "    \n",
    "    df['top_y'] = np.where((df['os'] == 0) & (df['os'].shift() != 0), df['high'].shift(swing_len), np.nan)\n",
    "    df['top_x'] = np.where((df['os'] == 0) & (df['os'].shift() != 0), df.index.to_series().shift(swing_len),pd.NaT)\n",
    "    df['btm_y'] = np.where((df['os'] == 1) & (df['os'].shift() != 1), df['low'].shift(swing_len), np.nan)\n",
    "    df['btm_x'] = np.where((df['os'] == 1) & (df['os'].shift() != 1), df.index.to_series().shift(swing_len),pd.NaT)\n",
    "    df['top_x'] = pd.to_datetime(df['top_x'])\n",
    "    df['btm_x'] = pd.to_datetime(df['btm_x'])\n",
    "    df['top_y'] = df['top_y'].ffill()\n",
    "    df['top_x'] = df['top_x'].ffill()\n",
    "    df['btm_y'] = df['btm_y'].ffill()\n",
    "    df['btm_x'] = df['btm_x'].ffill()\n",
    "    df['top_crossed'] = df.groupby((df['top_y'].dropna().diff() != 0).cumsum()).apply(lambda d: (d['close']>d['top_y']).cumsum().clip(0, 1)).droplevel('top_y')\n",
    "    df['btm_crossed'] = df.groupby((df['btm_y'].dropna().diff() != 0).cumsum()).apply(lambda d: (d['close']<d['btm_y']).cumsum().clip(0, 1)).droplevel('btm_y')\n",
    "    for i in df.index[utils.crossover(df['top_crossed'], 0.5)]:\n",
    "        top_cross_data = df.loc[i]\n",
    "        top_cross_df = df.loc[top_cross_data['top_x']:i].iloc[:-1]\n",
    "        ts_bull_ob = top_cross_df['low'].idxmin()\n",
    "        df.loc[i, 'bull_ob_top'] = top_cross_df.loc[ts_bull_ob, 'high']\n",
    "        df.loc[i, 'bull_ob_btm'] = top_cross_df.loc[ts_bull_ob, 'low']\n",
    "        df.loc[i, 'bull_ob_dt'] = ts_bull_ob\n",
    "    for i in df.index[utils.crossover(df['btm_crossed'], 0.5)]:\n",
    "        btm_cross_data = df.loc[i]\n",
    "        btm_cross_df = df.loc[btm_cross_data['btm_x']:i].iloc[:-1]\n",
    "        ts_bear_ob = btm_cross_df['high'].idxmax()\n",
    "        df.loc[i, 'bear_ob_top'] = btm_cross_df.loc[ts_bear_ob, 'high']\n",
    "        df.loc[i, 'bear_ob_btm'] = btm_cross_df.loc[ts_bear_ob, 'low']\n",
    "        df.loc[i, 'bear_ob_dt'] = ts_bear_ob\n",
    "    return df"
   ]
  },
  {
   "cell_type": "code",
   "execution_count": 89,
   "metadata": {},
   "outputs": [],
   "source": [
    "df = get_ob(bs.get_data().iloc[:-1], 5)"
   ]
  },
  {
   "cell_type": "code",
   "execution_count": 94,
   "metadata": {},
   "outputs": [],
   "source": [
    "le = df.groupby((~df['bear_ob_top'].isna()).cumsum()).apply(lambda d: utils.crossover(utils.crossover(d['close'], d['bear_ob_top'].ffill()).cumsum(), 0.5) ).droplevel('bear_ob_top')\n",
    "se = df.groupby((~df['bull_ob_btm'].isna()).cumsum()).apply(lambda d: utils.crossover(utils.crossover(d['bull_ob_btm'].ffill(), d['close']).cumsum(), 0.5) ).droplevel('bull_ob_btm')"
   ]
  },
  {
   "cell_type": "code",
   "execution_count": null,
   "metadata": {},
   "outputs": [],
   "source": [
    "se[se]"
   ]
  }
 ],
 "metadata": {
  "kernelspec": {
   "display_name": "trading_blog--0TPTIZL",
   "language": "python",
   "name": "python3"
  },
  "language_info": {
   "codemirror_mode": {
    "name": "ipython",
    "version": 3
   },
   "file_extension": ".py",
   "mimetype": "text/x-python",
   "name": "python",
   "nbconvert_exporter": "python",
   "pygments_lexer": "ipython3",
   "version": "3.9.1"
  }
 },
 "nbformat": 4,
 "nbformat_minor": 2
}
